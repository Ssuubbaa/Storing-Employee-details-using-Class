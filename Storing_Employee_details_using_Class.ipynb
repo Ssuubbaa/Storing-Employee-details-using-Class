{
  "nbformat": 4,
  "nbformat_minor": 0,
  "metadata": {
    "colab": {
      "provenance": [],
      "authorship_tag": "ABX9TyMsv65sXzksdc+sLHv7qD4d"
    },
    "kernelspec": {
      "name": "python3",
      "display_name": "Python 3"
    },
    "language_info": {
      "name": "python"
    }
  },
  "cells": [
    {
      "cell_type": "code",
      "execution_count": 10,
      "metadata": {
        "colab": {
          "base_uri": "https://localhost:8080/"
        },
        "id": "jma6YFdTPL-4",
        "outputId": "45ac151d-f895-4cbf-ef6d-8f8f358a1d09"
      },
      "outputs": [
        {
          "output_type": "stream",
          "name": "stdout",
          "text": [
            "There are 5 employees\n"
          ]
        }
      ],
      "source": [
        "class Employee:\n",
        "  count=0\n",
        "  def __init__(self,name,position,salary):\n",
        "    self.name = name\n",
        "    self.position = position\n",
        "    self.salary = salary\n",
        "    Employee.count+=1\n",
        "  def displayCount(self):\n",
        "    print(\"There are %d employees\" %Employee.count)\n",
        "  def displayDetails(self):\n",
        "    print(\"Name:\",self.name, \",Position:\", self.position,\",Salary:\",self.salary)\n",
        "\n",
        "emp1=Employee(\"Employee1\",\"HR\",45000)\n",
        "emp2=Employee(\"Employee2\",\"Manager\",90000)\n",
        "emp3=Employee(\"Employee3\",\"Programmer\",45000)\n",
        "emp4=Employee(\"Employee4\",\"Engineer\",50000)\n",
        "emp5=Employee(\"Employee5\",\"IT Support\",40000)\n",
        "\n",
        "Employee.displayCount(emp1)   # Count of Employees"
      ]
    },
    {
      "cell_type": "code",
      "source": [
        "print('**Information about employees**')\n",
        "Employee.displayDetails(emp1)"
      ],
      "metadata": {
        "colab": {
          "base_uri": "https://localhost:8080/"
        },
        "id": "UFJBhjJeRYNy",
        "outputId": "2ac49d4b-eef0-4721-c18b-e267516e579b"
      },
      "execution_count": 11,
      "outputs": [
        {
          "output_type": "stream",
          "name": "stdout",
          "text": [
            "**Information about employees**\n",
            "Name: Employee1 ,Position: HR ,Salary: 45000\n"
          ]
        }
      ]
    },
    {
      "cell_type": "code",
      "source": [
        "print('**Information about employees**')\n",
        "emp1.displayDetails()\n",
        "emp2.displayDetails()\n",
        "emp3.displayDetails()\n",
        "emp4.displayDetails()\n",
        "emp5.displayDetails()"
      ],
      "metadata": {
        "colab": {
          "base_uri": "https://localhost:8080/"
        },
        "id": "KUbAvf_RSQtq",
        "outputId": "c048f9bd-f717-488b-ba4d-b050e914e05b"
      },
      "execution_count": 16,
      "outputs": [
        {
          "output_type": "stream",
          "name": "stdout",
          "text": [
            "**Information about employees**\n",
            "Name: Employee1 ,Position: HR ,Salary: 45000\n",
            "Name: Employee2 ,Position: Manager ,Salary: 90000\n",
            "Name: Employee3 ,Position: Programmer ,Salary: 45000\n",
            "Name: Employee4 ,Position: Engineer ,Salary: 50000\n",
            "Name: Employee5 ,Position: IT Support ,Salary: 40000\n"
          ]
        }
      ]
    },
    {
      "cell_type": "code",
      "source": [],
      "metadata": {
        "id": "8KiDInR4SX2j"
      },
      "execution_count": null,
      "outputs": []
    }
  ]
}